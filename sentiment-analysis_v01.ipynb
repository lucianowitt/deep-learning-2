{
 "cells": [
  {
   "cell_type": "markdown",
   "metadata": {},
   "source": [
    "## Análise de sentimento em reviews de filmes\n",
    "\n",
    "Gibson Weinert, Luciano Gonçalves, João Paulo Medeiros\n",
    "\n",
    "### Dataset\n",
    "\n",
    "https://www.kaggle.com/c/sentiment-analysis-on-movie-reviews/data\n",
    "\n",
    "### Classes\n",
    "1. negative\n",
    "2. somewhat negative\n",
    "3. neutral\n",
    "4. somewhat positive\n",
    "5. positive"
   ]
  },
  {
   "cell_type": "code",
   "execution_count": 1,
   "metadata": {},
   "outputs": [],
   "source": [
    "%load_ext autoreload\n",
    "%autoreload 2\n",
    "%matplotlib inline"
   ]
  },
  {
   "cell_type": "markdown",
   "metadata": {},
   "source": [
    "### Análise inicial dos dados"
   ]
  },
  {
   "cell_type": "code",
   "execution_count": 2,
   "metadata": {},
   "outputs": [],
   "source": [
    "import numpy as np\n",
    "import pandas as pd"
   ]
  },
  {
   "cell_type": "code",
   "execution_count": 3,
   "metadata": {},
   "outputs": [
    {
     "name": "stdout",
     "output_type": "stream",
     "text": [
      "(156060, 4)\n"
     ]
    },
    {
     "data": {
      "text/html": [
       "<div>\n",
       "<style scoped>\n",
       "    .dataframe tbody tr th:only-of-type {\n",
       "        vertical-align: middle;\n",
       "    }\n",
       "\n",
       "    .dataframe tbody tr th {\n",
       "        vertical-align: top;\n",
       "    }\n",
       "\n",
       "    .dataframe thead th {\n",
       "        text-align: right;\n",
       "    }\n",
       "</style>\n",
       "<table border=\"1\" class=\"dataframe\">\n",
       "  <thead>\n",
       "    <tr style=\"text-align: right;\">\n",
       "      <th></th>\n",
       "      <th>PhraseId</th>\n",
       "      <th>SentenceId</th>\n",
       "      <th>Phrase</th>\n",
       "      <th>Sentiment</th>\n",
       "    </tr>\n",
       "  </thead>\n",
       "  <tbody>\n",
       "    <tr>\n",
       "      <td>0</td>\n",
       "      <td>1</td>\n",
       "      <td>1</td>\n",
       "      <td>A series of escapades demonstrating the adage ...</td>\n",
       "      <td>1</td>\n",
       "    </tr>\n",
       "    <tr>\n",
       "      <td>1</td>\n",
       "      <td>2</td>\n",
       "      <td>1</td>\n",
       "      <td>A series of escapades demonstrating the adage ...</td>\n",
       "      <td>2</td>\n",
       "    </tr>\n",
       "    <tr>\n",
       "      <td>2</td>\n",
       "      <td>3</td>\n",
       "      <td>1</td>\n",
       "      <td>A series</td>\n",
       "      <td>2</td>\n",
       "    </tr>\n",
       "    <tr>\n",
       "      <td>3</td>\n",
       "      <td>4</td>\n",
       "      <td>1</td>\n",
       "      <td>A</td>\n",
       "      <td>2</td>\n",
       "    </tr>\n",
       "    <tr>\n",
       "      <td>4</td>\n",
       "      <td>5</td>\n",
       "      <td>1</td>\n",
       "      <td>series</td>\n",
       "      <td>2</td>\n",
       "    </tr>\n",
       "  </tbody>\n",
       "</table>\n",
       "</div>"
      ],
      "text/plain": [
       "   PhraseId  SentenceId                                             Phrase  \\\n",
       "0         1           1  A series of escapades demonstrating the adage ...   \n",
       "1         2           1  A series of escapades demonstrating the adage ...   \n",
       "2         3           1                                           A series   \n",
       "3         4           1                                                  A   \n",
       "4         5           1                                             series   \n",
       "\n",
       "   Sentiment  \n",
       "0          1  \n",
       "1          2  \n",
       "2          2  \n",
       "3          2  \n",
       "4          2  "
      ]
     },
     "execution_count": 3,
     "metadata": {},
     "output_type": "execute_result"
    }
   ],
   "source": [
    "original_train = pd.read_csv('./data/train.tsv', '\\t')\n",
    "print(original_train.shape)\n",
    "original_train.head()"
   ]
  },
  {
   "cell_type": "code",
   "execution_count": 4,
   "metadata": {
    "scrolled": true
   },
   "outputs": [
    {
     "name": "stdout",
     "output_type": "stream",
     "text": [
      "(66292, 3)\n"
     ]
    },
    {
     "data": {
      "text/html": [
       "<div>\n",
       "<style scoped>\n",
       "    .dataframe tbody tr th:only-of-type {\n",
       "        vertical-align: middle;\n",
       "    }\n",
       "\n",
       "    .dataframe tbody tr th {\n",
       "        vertical-align: top;\n",
       "    }\n",
       "\n",
       "    .dataframe thead th {\n",
       "        text-align: right;\n",
       "    }\n",
       "</style>\n",
       "<table border=\"1\" class=\"dataframe\">\n",
       "  <thead>\n",
       "    <tr style=\"text-align: right;\">\n",
       "      <th></th>\n",
       "      <th>PhraseId</th>\n",
       "      <th>SentenceId</th>\n",
       "      <th>Phrase</th>\n",
       "    </tr>\n",
       "  </thead>\n",
       "  <tbody>\n",
       "    <tr>\n",
       "      <td>0</td>\n",
       "      <td>156061</td>\n",
       "      <td>8545</td>\n",
       "      <td>An intermittently pleasing but mostly routine ...</td>\n",
       "    </tr>\n",
       "    <tr>\n",
       "      <td>1</td>\n",
       "      <td>156062</td>\n",
       "      <td>8545</td>\n",
       "      <td>An intermittently pleasing but mostly routine ...</td>\n",
       "    </tr>\n",
       "    <tr>\n",
       "      <td>2</td>\n",
       "      <td>156063</td>\n",
       "      <td>8545</td>\n",
       "      <td>An</td>\n",
       "    </tr>\n",
       "    <tr>\n",
       "      <td>3</td>\n",
       "      <td>156064</td>\n",
       "      <td>8545</td>\n",
       "      <td>intermittently pleasing but mostly routine effort</td>\n",
       "    </tr>\n",
       "    <tr>\n",
       "      <td>4</td>\n",
       "      <td>156065</td>\n",
       "      <td>8545</td>\n",
       "      <td>intermittently pleasing but mostly routine</td>\n",
       "    </tr>\n",
       "  </tbody>\n",
       "</table>\n",
       "</div>"
      ],
      "text/plain": [
       "   PhraseId  SentenceId                                             Phrase\n",
       "0    156061        8545  An intermittently pleasing but mostly routine ...\n",
       "1    156062        8545  An intermittently pleasing but mostly routine ...\n",
       "2    156063        8545                                                 An\n",
       "3    156064        8545  intermittently pleasing but mostly routine effort\n",
       "4    156065        8545         intermittently pleasing but mostly routine"
      ]
     },
     "execution_count": 4,
     "metadata": {},
     "output_type": "execute_result"
    }
   ],
   "source": [
    "original_test = pd.read_csv('./data/test.tsv', '\\t')\n",
    "print(original_test.shape)\n",
    "original_test.head()"
   ]
  },
  {
   "cell_type": "markdown",
   "metadata": {},
   "source": [
    "**O conjunto original de teste não possui as labels, pois foi concebido para o desafio.**\n",
    "\n",
    "**Vamos desconsiderá-lo e dividir o conjunto original de treino em treino, validação e teste.**"
   ]
  },
  {
   "cell_type": "markdown",
   "metadata": {},
   "source": [
    "### Preparação dos datasets de treino, validação e teste"
   ]
  },
  {
   "cell_type": "code",
   "execution_count": 5,
   "metadata": {},
   "outputs": [
    {
     "name": "stdout",
     "output_type": "stream",
     "text": [
      "Train: 99878 \n",
      "Valid: 24970 \n",
      "Test:  31212 \n",
      "\n",
      "Total: 156060\n"
     ]
    }
   ],
   "source": [
    "from sklearn.model_selection import train_test_split\n",
    "\n",
    "X = original_train['Phrase']\n",
    "y = original_train['Sentiment']\n",
    "\n",
    "X_other, X_test, y_other, y_test = train_test_split(X, y, test_size=0.2, stratify=y)\n",
    "X_train, X_valid, y_train, y_valid = train_test_split(X_other, y_other, test_size=0.2, stratify=y_other)\n",
    "\n",
    "print('Train:', len(X_train), '\\nValid:', len(X_valid), '\\nTest: ', len(X_test), '\\n\\nTotal:', len(X))"
   ]
  },
  {
   "cell_type": "code",
   "execution_count": 6,
   "metadata": {},
   "outputs": [],
   "source": [
    "train = pd.DataFrame({'y': y_train, 'X': X_train})\n",
    "valid = pd.DataFrame({'y': y_train, 'X': X_train})\n",
    "test = pd.DataFrame({'y': y_train, 'X': X_train})\n",
    "\n",
    "train.to_csv('./data/train.csv', '\\t', header=False, index=False)\n",
    "train.to_csv('./data/valid.csv', '\\t', header=False, index=False)\n",
    "train.to_csv('./data/test.csv', '\\t', header=False, index=False)"
   ]
  },
  {
   "cell_type": "markdown",
   "metadata": {},
   "source": [
    "### Criação do vocabulário"
   ]
  },
  {
   "cell_type": "code",
   "execution_count": 7,
   "metadata": {
    "scrolled": true
   },
   "outputs": [
    {
     "name": "stdout",
     "output_type": "stream",
     "text": [
      "Vocabulary size: 15244\n"
     ]
    }
   ],
   "source": [
    "import json\n",
    "from sklearn.feature_extraction.text import CountVectorizer\n",
    "\n",
    "vectorizer = CountVectorizer()\n",
    "vectorizer.fit_transform(X)\n",
    "\n",
    "vocab = {}\n",
    "vocab['word2idx'] = {'<pad>': 0, '<start>': 1, '<end>': 2, '<unk>': 3}\n",
    "vocab['idx2word'] = {'0': '<pad>', '1': '<start>', '2': '<end>', '3': '<unk>'}\n",
    "vocab['idx'] = [0, 1, 2, 3]\n",
    "\n",
    "for k, v in enumerate(vectorizer.vocabulary_.keys()):\n",
    "    vocab['word2idx'][v] = k + 4\n",
    "    vocab['idx2word'][str(k + 4)] = v\n",
    "    vocab['idx'].append(k + 4)\n",
    "\n",
    "with open('./data/vocab.json', 'w') as outfile:\n",
    "    json.dump(vocab, outfile)\n",
    "\n",
    "vocabSize = len(vocab['idx'])\n",
    "\n",
    "print('Vocabulary size:', vocabSize)"
   ]
  },
  {
   "cell_type": "markdown",
   "metadata": {},
   "source": [
    "### Implementação"
   ]
  },
  {
   "cell_type": "code",
   "execution_count": 8,
   "metadata": {},
   "outputs": [],
   "source": [
    "import torch\n",
    "import torch.nn as nn\n",
    "from data import get_loaders\n",
    "from train import train, test, check_input\n",
    "import models \n",
    "from matplotlib import pyplot as plt"
   ]
  },
  {
   "cell_type": "code",
   "execution_count": 9,
   "metadata": {},
   "outputs": [],
   "source": [
    "classes = [\n",
    "  'negative',\n",
    "  'somewhat negative',\n",
    "  'neutral',\n",
    "  'somewhat positive',\n",
    "  'positive'\n",
    "]"
   ]
  },
  {
   "cell_type": "code",
   "execution_count": 10,
   "metadata": {},
   "outputs": [],
   "source": [
    "def plot_instance(instance_id):\n",
    "    text = train_loader.dataset.texts[instance_id]\n",
    "    label = train_loader.dataset.labels[instance_id]\n",
    "    label_str = classes[train_loader.dataset.labels[instance_id]]\n",
    "    print('\\nExample:')\n",
    "    print(text)\n",
    "    print('Label:', label, '-', label_str)"
   ]
  },
  {
   "cell_type": "markdown",
   "metadata": {},
   "source": [
    "#### Configurações e Hiperparâmetros"
   ]
  },
  {
   "cell_type": "code",
   "execution_count": 11,
   "metadata": {},
   "outputs": [],
   "source": [
    "data_path = './data/'\n",
    "device_name = 'cuda'\n",
    "batch_size = 1024\n",
    "nb_epochs = 10\n",
    "log_interval = 5\n",
    "lr = 1e-2\n",
    "lr_step = 3\n",
    "num_layers = 1"
   ]
  },
  {
   "cell_type": "code",
   "execution_count": 12,
   "metadata": {},
   "outputs": [
    {
     "name": "stdout",
     "output_type": "stream",
     "text": [
      "Train size: 99878 99878\n",
      "Valid size: 99878 99878\n",
      "\n",
      "Example:\n",
      "A markedly inactive film\n",
      "Label: 1 - somewhat negative\n",
      "\n",
      "Example:\n",
      "secretly unhinged\n",
      "Label: 2 - neutral\n",
      "\n",
      "Example:\n",
      "is that Van Wilder does little that is actually funny with the material .\n",
      "Label: 1 - somewhat negative\n",
      "\n",
      "Example:\n",
      "the conventional science-fiction elements\n",
      "Label: 2 - neutral\n"
     ]
    }
   ],
   "source": [
    "device = torch.device(device_name)\n",
    "\n",
    "train_loader, valid_loader = get_loaders(\n",
    "    data_path=data_path, \n",
    "    batch_size=batch_size, \n",
    "    splits=['train', 'valid'],\n",
    ")\n",
    "\n",
    "nb_words = len(train_loader.dataset.vocab)\n",
    "\n",
    "print(\n",
    "    'Train size:', \n",
    "    len(train_loader.dataset.texts),\n",
    "    len(train_loader.dataset.labels)\n",
    ")\n",
    "print(\n",
    "    'Valid size:', \n",
    "    len(valid_loader.dataset.texts),\n",
    "    len(valid_loader.dataset.labels)\n",
    ")\n",
    "\n",
    "plot_instance(0)\n",
    "plot_instance(1015)\n",
    "plot_instance(5136)\n",
    "plot_instance(8974)\n"
   ]
  },
  {
   "cell_type": "code",
   "execution_count": 13,
   "metadata": {},
   "outputs": [],
   "source": [
    "def average_pooling(instances, lens):\n",
    "    return torch.stack([\n",
    "        text[:l].mean(0) for text, l in zip(instances, lens)\n",
    "    ])\n",
    "\n",
    "\n",
    "class TextLSTM(nn.Module):\n",
    "    def __init__(self, num_embeddings=vocabSize, embedding_dim=100):\n",
    "        '''\n",
    "            num_embeddings: number of words in the dictionary\n",
    "            embedding_dim: size of the word-embedding vector\n",
    "        '''\n",
    "        super(TextLSTM, self).__init__()\n",
    "        self.embedding = nn.Embedding(\n",
    "            num_embeddings=num_embeddings, \n",
    "            embedding_dim=embedding_dim,\n",
    "        )\n",
    "        self.rnn = nn.LSTM(\n",
    "            input_size=100, hidden_size=32, \n",
    "            batch_first=True, bidirectional=True,\n",
    "            num_layers=num_layers\n",
    "        )\n",
    "        self.fc = nn.Linear(32*2, len(classes))\n",
    "        \n",
    "    def forward(self, x, lengths):\n",
    "        # Transforma índices das palavras em vetores \n",
    "        x = self.embedding(x)\n",
    "        # Processa vetores das palavras com uma rede recorrente\n",
    "        hidden, output = self.rnn(x)\n",
    "        # Faz a média das ativações de todas as iterações recorrentes\n",
    "        vector = average_pooling(hidden, lengths)\n",
    "        # Camada linear para classificacao\n",
    "        x = self.fc(vector)\n",
    "        return x\n"
   ]
  },
  {
   "cell_type": "code",
   "execution_count": 14,
   "metadata": {},
   "outputs": [
    {
     "name": "stdout",
     "output_type": "stream",
     "text": [
      "Passed\n"
     ]
    }
   ],
   "source": [
    "model = TextLSTM()\n",
    "model = model.to(device)\n",
    "\n",
    "dummy_pred = check_input(model, device)"
   ]
  },
  {
   "cell_type": "code",
   "execution_count": 15,
   "metadata": {},
   "outputs": [],
   "source": [
    "optimizer = torch.optim.Adam(model.parameters(), lr=lr)\n",
    "lr_scheduler = torch.optim.lr_scheduler.StepLR(optimizer, step_size=lr_step)"
   ]
  },
  {
   "cell_type": "code",
   "execution_count": 16,
   "metadata": {
    "scrolled": true
   },
   "outputs": [
    {
     "name": "stderr",
     "output_type": "stream",
     "text": [
      "[nltk_data] Downloading package punkt to\n",
      "[nltk_data]     C:\\Users\\Luciano\\AppData\\Roaming\\nltk_data...\n",
      "[nltk_data]   Package punkt is already up-to-date!\n"
     ]
    },
    {
     "data": {
      "text/plain": [
       "True"
      ]
     },
     "execution_count": 16,
     "metadata": {},
     "output_type": "execute_result"
    }
   ],
   "source": [
    "import nltk\n",
    "nltk.download('punkt')"
   ]
  },
  {
   "cell_type": "markdown",
   "metadata": {},
   "source": [
    "### Treino"
   ]
  },
  {
   "cell_type": "code",
   "execution_count": 17,
   "metadata": {
    "scrolled": false
   },
   "outputs": [
    {
     "name": "stdout",
     "output_type": "stream",
     "text": [
      "\n",
      "* * * Training * * *\n",
      "Train Epoch:   1 [     0/ 99878 (0%)]\tLoss: 1.608376\n",
      "Train Epoch:   1 [  5120/ 99878 (5%)]\tLoss: 1.180418\n",
      "Train Epoch:   1 [ 10240/ 99878 (10%)]\tLoss: 1.225151\n",
      "Train Epoch:   1 [ 15360/ 99878 (15%)]\tLoss: 1.243649\n",
      "Train Epoch:   1 [ 20480/ 99878 (20%)]\tLoss: 1.215401\n",
      "Train Epoch:   1 [ 25600/ 99878 (26%)]\tLoss: 1.193662\n",
      "Train Epoch:   1 [ 30720/ 99878 (31%)]\tLoss: 1.179532\n",
      "Train Epoch:   1 [ 35840/ 99878 (36%)]\tLoss: 1.143330\n",
      "Train Epoch:   1 [ 40960/ 99878 (41%)]\tLoss: 1.168574\n",
      "Train Epoch:   1 [ 46080/ 99878 (46%)]\tLoss: 1.106318\n",
      "Train Epoch:   1 [ 51200/ 99878 (51%)]\tLoss: 1.081636\n",
      "Train Epoch:   1 [ 56320/ 99878 (56%)]\tLoss: 1.061920\n",
      "Train Epoch:   1 [ 61440/ 99878 (61%)]\tLoss: 1.014279\n",
      "Train Epoch:   1 [ 66560/ 99878 (66%)]\tLoss: 0.993909\n",
      "Train Epoch:   1 [ 71680/ 99878 (71%)]\tLoss: 1.020255\n",
      "Train Epoch:   1 [ 76800/ 99878 (77%)]\tLoss: 0.980615\n",
      "Train Epoch:   1 [ 81920/ 99878 (82%)]\tLoss: 0.948058\n",
      "Train Epoch:   1 [ 87040/ 99878 (87%)]\tLoss: 0.960810\n",
      "Train Epoch:   1 [ 92160/ 99878 (92%)]\tLoss: 0.969271\n",
      "Train Epoch:   1 [ 97280/ 99878 (97%)]\tLoss: 0.950018\n",
      "\n",
      "* * * Evaluating * * *\n",
      "Test set: Average loss: 0.0008, Accuracy: 65505/99878 (65.59%)\n",
      "\n",
      "\n",
      "* * * Training * * *\n",
      "Train Epoch:   2 [     0/ 99878 (0%)]\tLoss: 0.888668\n",
      "Train Epoch:   2 [  5120/ 99878 (5%)]\tLoss: 0.882030\n",
      "Train Epoch:   2 [ 10240/ 99878 (10%)]\tLoss: 0.810656\n",
      "Train Epoch:   2 [ 15360/ 99878 (15%)]\tLoss: 0.837802\n",
      "Train Epoch:   2 [ 20480/ 99878 (20%)]\tLoss: 0.850727\n",
      "Train Epoch:   2 [ 25600/ 99878 (26%)]\tLoss: 0.838732\n",
      "Train Epoch:   2 [ 30720/ 99878 (31%)]\tLoss: 0.846817\n",
      "Train Epoch:   2 [ 35840/ 99878 (36%)]\tLoss: 0.831980\n",
      "Train Epoch:   2 [ 40960/ 99878 (41%)]\tLoss: 0.840540\n",
      "Train Epoch:   2 [ 46080/ 99878 (46%)]\tLoss: 0.805105\n",
      "Train Epoch:   2 [ 51200/ 99878 (51%)]\tLoss: 0.834708\n",
      "Train Epoch:   2 [ 56320/ 99878 (56%)]\tLoss: 0.825869\n",
      "Train Epoch:   2 [ 61440/ 99878 (61%)]\tLoss: 0.833821\n",
      "Train Epoch:   2 [ 66560/ 99878 (66%)]\tLoss: 0.843520\n",
      "Train Epoch:   2 [ 71680/ 99878 (71%)]\tLoss: 0.815417\n",
      "Train Epoch:   2 [ 76800/ 99878 (77%)]\tLoss: 0.841980\n",
      "Train Epoch:   2 [ 81920/ 99878 (82%)]\tLoss: 0.796614\n",
      "Train Epoch:   2 [ 87040/ 99878 (87%)]\tLoss: 0.807488\n",
      "Train Epoch:   2 [ 92160/ 99878 (92%)]\tLoss: 0.823581\n",
      "Train Epoch:   2 [ 97280/ 99878 (97%)]\tLoss: 0.802881\n",
      "\n",
      "* * * Evaluating * * *\n",
      "Test set: Average loss: 0.0007, Accuracy: 71438/99878 (71.53%)\n",
      "\n",
      "\n",
      "* * * Training * * *\n",
      "Train Epoch:   3 [     0/ 99878 (0%)]\tLoss: 0.673764\n",
      "Train Epoch:   3 [  5120/ 99878 (5%)]\tLoss: 0.693908\n",
      "Train Epoch:   3 [ 10240/ 99878 (10%)]\tLoss: 0.725531\n",
      "Train Epoch:   3 [ 15360/ 99878 (15%)]\tLoss: 0.726462\n",
      "Train Epoch:   3 [ 20480/ 99878 (20%)]\tLoss: 0.676147\n",
      "Train Epoch:   3 [ 25600/ 99878 (26%)]\tLoss: 0.717893\n",
      "Train Epoch:   3 [ 30720/ 99878 (31%)]\tLoss: 0.774600\n",
      "Train Epoch:   3 [ 35840/ 99878 (36%)]\tLoss: 0.710806\n",
      "Train Epoch:   3 [ 40960/ 99878 (41%)]\tLoss: 0.681696\n",
      "Train Epoch:   3 [ 46080/ 99878 (46%)]\tLoss: 0.725376\n",
      "Train Epoch:   3 [ 51200/ 99878 (51%)]\tLoss: 0.736418\n",
      "Train Epoch:   3 [ 56320/ 99878 (56%)]\tLoss: 0.759502\n",
      "Train Epoch:   3 [ 61440/ 99878 (61%)]\tLoss: 0.716718\n",
      "Train Epoch:   3 [ 66560/ 99878 (66%)]\tLoss: 0.723253\n",
      "Train Epoch:   3 [ 71680/ 99878 (71%)]\tLoss: 0.732475\n",
      "Train Epoch:   3 [ 76800/ 99878 (77%)]\tLoss: 0.730368\n",
      "Train Epoch:   3 [ 81920/ 99878 (82%)]\tLoss: 0.753257\n",
      "Train Epoch:   3 [ 87040/ 99878 (87%)]\tLoss: 0.778422\n",
      "Train Epoch:   3 [ 92160/ 99878 (92%)]\tLoss: 0.710191\n",
      "Train Epoch:   3 [ 97280/ 99878 (97%)]\tLoss: 0.671466\n",
      "\n",
      "* * * Evaluating * * *\n",
      "Test set: Average loss: 0.0006, Accuracy: 74594/99878 (74.69%)\n",
      "\n",
      "\n",
      "* * * Training * * *\n",
      "Train Epoch:   4 [     0/ 99878 (0%)]\tLoss: 0.646876\n",
      "Train Epoch:   4 [  5120/ 99878 (5%)]\tLoss: 0.614055\n",
      "Train Epoch:   4 [ 10240/ 99878 (10%)]\tLoss: 0.609487\n",
      "Train Epoch:   4 [ 15360/ 99878 (15%)]\tLoss: 0.629536\n",
      "Train Epoch:   4 [ 20480/ 99878 (20%)]\tLoss: 0.611661\n",
      "Train Epoch:   4 [ 25600/ 99878 (26%)]\tLoss: 0.600089\n",
      "Train Epoch:   4 [ 30720/ 99878 (31%)]\tLoss: 0.653888\n",
      "Train Epoch:   4 [ 35840/ 99878 (36%)]\tLoss: 0.624095\n",
      "Train Epoch:   4 [ 40960/ 99878 (41%)]\tLoss: 0.617040\n",
      "Train Epoch:   4 [ 46080/ 99878 (46%)]\tLoss: 0.592843\n",
      "Train Epoch:   4 [ 51200/ 99878 (51%)]\tLoss: 0.602482\n",
      "Train Epoch:   4 [ 56320/ 99878 (56%)]\tLoss: 0.609547\n",
      "Train Epoch:   4 [ 61440/ 99878 (61%)]\tLoss: 0.630500\n",
      "Train Epoch:   4 [ 66560/ 99878 (66%)]\tLoss: 0.658789\n",
      "Train Epoch:   4 [ 71680/ 99878 (71%)]\tLoss: 0.639951\n",
      "Train Epoch:   4 [ 76800/ 99878 (77%)]\tLoss: 0.623301\n",
      "Train Epoch:   4 [ 81920/ 99878 (82%)]\tLoss: 0.616620\n",
      "Train Epoch:   4 [ 87040/ 99878 (87%)]\tLoss: 0.613482\n",
      "Train Epoch:   4 [ 92160/ 99878 (92%)]\tLoss: 0.658357\n",
      "Train Epoch:   4 [ 97280/ 99878 (97%)]\tLoss: 0.615040\n",
      "\n",
      "* * * Evaluating * * *\n",
      "Test set: Average loss: 0.0006, Accuracy: 75756/99878 (75.85%)\n",
      "\n",
      "\n",
      "* * * Training * * *\n",
      "Train Epoch:   5 [     0/ 99878 (0%)]\tLoss: 0.619460\n",
      "Train Epoch:   5 [  5120/ 99878 (5%)]\tLoss: 0.551219\n",
      "Train Epoch:   5 [ 10240/ 99878 (10%)]\tLoss: 0.633366\n",
      "Train Epoch:   5 [ 15360/ 99878 (15%)]\tLoss: 0.585499\n",
      "Train Epoch:   5 [ 20480/ 99878 (20%)]\tLoss: 0.617385\n",
      "Train Epoch:   5 [ 25600/ 99878 (26%)]\tLoss: 0.594610\n",
      "Train Epoch:   5 [ 30720/ 99878 (31%)]\tLoss: 0.596835\n",
      "Train Epoch:   5 [ 35840/ 99878 (36%)]\tLoss: 0.572365\n",
      "Train Epoch:   5 [ 40960/ 99878 (41%)]\tLoss: 0.588681\n",
      "Train Epoch:   5 [ 46080/ 99878 (46%)]\tLoss: 0.567186\n",
      "Train Epoch:   5 [ 51200/ 99878 (51%)]\tLoss: 0.587446\n",
      "Train Epoch:   5 [ 56320/ 99878 (56%)]\tLoss: 0.610552\n",
      "Train Epoch:   5 [ 61440/ 99878 (61%)]\tLoss: 0.572178\n",
      "Train Epoch:   5 [ 66560/ 99878 (66%)]\tLoss: 0.624634\n",
      "Train Epoch:   5 [ 71680/ 99878 (71%)]\tLoss: 0.621509\n",
      "Train Epoch:   5 [ 76800/ 99878 (77%)]\tLoss: 0.596361\n",
      "Train Epoch:   5 [ 81920/ 99878 (82%)]\tLoss: 0.595874\n",
      "Train Epoch:   5 [ 87040/ 99878 (87%)]\tLoss: 0.630861\n",
      "Train Epoch:   5 [ 92160/ 99878 (92%)]\tLoss: 0.653454\n",
      "Train Epoch:   5 [ 97280/ 99878 (97%)]\tLoss: 0.627805\n",
      "\n",
      "* * * Evaluating * * *\n",
      "Test set: Average loss: 0.0006, Accuracy: 76544/99878 (76.64%)\n",
      "\n",
      "\n",
      "* * * Training * * *\n",
      "Train Epoch:   6 [     0/ 99878 (0%)]\tLoss: 0.568721\n",
      "Train Epoch:   6 [  5120/ 99878 (5%)]\tLoss: 0.561728\n",
      "Train Epoch:   6 [ 10240/ 99878 (10%)]\tLoss: 0.555920\n",
      "Train Epoch:   6 [ 15360/ 99878 (15%)]\tLoss: 0.573629\n",
      "Train Epoch:   6 [ 20480/ 99878 (20%)]\tLoss: 0.608901\n",
      "Train Epoch:   6 [ 25600/ 99878 (26%)]\tLoss: 0.568863\n",
      "Train Epoch:   6 [ 30720/ 99878 (31%)]\tLoss: 0.577609\n",
      "Train Epoch:   6 [ 35840/ 99878 (36%)]\tLoss: 0.554050\n",
      "Train Epoch:   6 [ 40960/ 99878 (41%)]\tLoss: 0.595711\n",
      "Train Epoch:   6 [ 46080/ 99878 (46%)]\tLoss: 0.556000\n",
      "Train Epoch:   6 [ 51200/ 99878 (51%)]\tLoss: 0.610738\n",
      "Train Epoch:   6 [ 56320/ 99878 (56%)]\tLoss: 0.594169\n",
      "Train Epoch:   6 [ 61440/ 99878 (61%)]\tLoss: 0.575494\n",
      "Train Epoch:   6 [ 66560/ 99878 (66%)]\tLoss: 0.559119\n",
      "Train Epoch:   6 [ 71680/ 99878 (71%)]\tLoss: 0.610211\n",
      "Train Epoch:   6 [ 76800/ 99878 (77%)]\tLoss: 0.621952\n",
      "Train Epoch:   6 [ 81920/ 99878 (82%)]\tLoss: 0.600472\n",
      "Train Epoch:   6 [ 87040/ 99878 (87%)]\tLoss: 0.565958\n",
      "Train Epoch:   6 [ 92160/ 99878 (92%)]\tLoss: 0.598905\n",
      "Train Epoch:   6 [ 97280/ 99878 (97%)]\tLoss: 0.568669\n",
      "\n",
      "* * * Evaluating * * *\n",
      "Test set: Average loss: 0.0006, Accuracy: 77030/99878 (77.12%)\n",
      "\n",
      "\n",
      "* * * Training * * *\n",
      "Train Epoch:   7 [     0/ 99878 (0%)]\tLoss: 0.582197\n",
      "Train Epoch:   7 [  5120/ 99878 (5%)]\tLoss: 0.639754\n",
      "Train Epoch:   7 [ 10240/ 99878 (10%)]\tLoss: 0.565089\n",
      "Train Epoch:   7 [ 15360/ 99878 (15%)]\tLoss: 0.565075\n",
      "Train Epoch:   7 [ 20480/ 99878 (20%)]\tLoss: 0.565631\n",
      "Train Epoch:   7 [ 25600/ 99878 (26%)]\tLoss: 0.587511\n",
      "Train Epoch:   7 [ 30720/ 99878 (31%)]\tLoss: 0.605396\n",
      "Train Epoch:   7 [ 35840/ 99878 (36%)]\tLoss: 0.550770\n",
      "Train Epoch:   7 [ 40960/ 99878 (41%)]\tLoss: 0.576697\n",
      "Train Epoch:   7 [ 46080/ 99878 (46%)]\tLoss: 0.577654\n",
      "Train Epoch:   7 [ 51200/ 99878 (51%)]\tLoss: 0.543294\n",
      "Train Epoch:   7 [ 56320/ 99878 (56%)]\tLoss: 0.554820\n",
      "Train Epoch:   7 [ 61440/ 99878 (61%)]\tLoss: 0.546471\n",
      "Train Epoch:   7 [ 66560/ 99878 (66%)]\tLoss: 0.557291\n",
      "Train Epoch:   7 [ 71680/ 99878 (71%)]\tLoss: 0.566656\n",
      "Train Epoch:   7 [ 76800/ 99878 (77%)]\tLoss: 0.543164\n",
      "Train Epoch:   7 [ 81920/ 99878 (82%)]\tLoss: 0.583238\n",
      "Train Epoch:   7 [ 87040/ 99878 (87%)]\tLoss: 0.602167\n",
      "Train Epoch:   7 [ 92160/ 99878 (92%)]\tLoss: 0.586628\n",
      "Train Epoch:   7 [ 97280/ 99878 (97%)]\tLoss: 0.570777\n"
     ]
    },
    {
     "name": "stdout",
     "output_type": "stream",
     "text": [
      "\n",
      "* * * Evaluating * * *\n",
      "Test set: Average loss: 0.0006, Accuracy: 77202/99878 (77.30%)\n",
      "\n",
      "\n",
      "* * * Training * * *\n",
      "Train Epoch:   8 [     0/ 99878 (0%)]\tLoss: 0.558142\n",
      "Train Epoch:   8 [  5120/ 99878 (5%)]\tLoss: 0.606565\n",
      "Train Epoch:   8 [ 10240/ 99878 (10%)]\tLoss: 0.588880\n",
      "Train Epoch:   8 [ 15360/ 99878 (15%)]\tLoss: 0.540788\n",
      "Train Epoch:   8 [ 20480/ 99878 (20%)]\tLoss: 0.580289\n",
      "Train Epoch:   8 [ 25600/ 99878 (26%)]\tLoss: 0.595987\n",
      "Train Epoch:   8 [ 30720/ 99878 (31%)]\tLoss: 0.600854\n",
      "Train Epoch:   8 [ 35840/ 99878 (36%)]\tLoss: 0.565475\n",
      "Train Epoch:   8 [ 40960/ 99878 (41%)]\tLoss: 0.586418\n",
      "Train Epoch:   8 [ 46080/ 99878 (46%)]\tLoss: 0.584845\n",
      "Train Epoch:   8 [ 51200/ 99878 (51%)]\tLoss: 0.560164\n",
      "Train Epoch:   8 [ 56320/ 99878 (56%)]\tLoss: 0.545460\n",
      "Train Epoch:   8 [ 61440/ 99878 (61%)]\tLoss: 0.544340\n",
      "Train Epoch:   8 [ 66560/ 99878 (66%)]\tLoss: 0.604792\n",
      "Train Epoch:   8 [ 71680/ 99878 (71%)]\tLoss: 0.585902\n",
      "Train Epoch:   8 [ 76800/ 99878 (77%)]\tLoss: 0.544870\n",
      "Train Epoch:   8 [ 81920/ 99878 (82%)]\tLoss: 0.598390\n",
      "Train Epoch:   8 [ 87040/ 99878 (87%)]\tLoss: 0.590380\n",
      "Train Epoch:   8 [ 92160/ 99878 (92%)]\tLoss: 0.574461\n",
      "Train Epoch:   8 [ 97280/ 99878 (97%)]\tLoss: 0.534976\n",
      "\n",
      "* * * Evaluating * * *\n",
      "Test set: Average loss: 0.0006, Accuracy: 77250/99878 (77.34%)\n",
      "\n",
      "\n",
      "* * * Training * * *\n",
      "Train Epoch:   9 [     0/ 99878 (0%)]\tLoss: 0.545777\n",
      "Train Epoch:   9 [  5120/ 99878 (5%)]\tLoss: 0.578334\n",
      "Train Epoch:   9 [ 10240/ 99878 (10%)]\tLoss: 0.519023\n",
      "Train Epoch:   9 [ 15360/ 99878 (15%)]\tLoss: 0.569931\n",
      "Train Epoch:   9 [ 20480/ 99878 (20%)]\tLoss: 0.582976\n",
      "Train Epoch:   9 [ 25600/ 99878 (26%)]\tLoss: 0.590698\n",
      "Train Epoch:   9 [ 30720/ 99878 (31%)]\tLoss: 0.570069\n",
      "Train Epoch:   9 [ 35840/ 99878 (36%)]\tLoss: 0.547380\n",
      "Train Epoch:   9 [ 40960/ 99878 (41%)]\tLoss: 0.578211\n",
      "Train Epoch:   9 [ 46080/ 99878 (46%)]\tLoss: 0.590888\n",
      "Train Epoch:   9 [ 51200/ 99878 (51%)]\tLoss: 0.533765\n",
      "Train Epoch:   9 [ 56320/ 99878 (56%)]\tLoss: 0.551137\n",
      "Train Epoch:   9 [ 61440/ 99878 (61%)]\tLoss: 0.585815\n",
      "Train Epoch:   9 [ 66560/ 99878 (66%)]\tLoss: 0.556743\n",
      "Train Epoch:   9 [ 71680/ 99878 (71%)]\tLoss: 0.574530\n",
      "Train Epoch:   9 [ 76800/ 99878 (77%)]\tLoss: 0.558386\n",
      "Train Epoch:   9 [ 81920/ 99878 (82%)]\tLoss: 0.549279\n",
      "Train Epoch:   9 [ 87040/ 99878 (87%)]\tLoss: 0.538406\n",
      "Train Epoch:   9 [ 92160/ 99878 (92%)]\tLoss: 0.512760\n",
      "Train Epoch:   9 [ 97280/ 99878 (97%)]\tLoss: 0.579321\n",
      "\n",
      "* * * Evaluating * * *\n",
      "Test set: Average loss: 0.0006, Accuracy: 77296/99878 (77.39%)\n",
      "\n",
      "\n",
      "* * * Training * * *\n",
      "Train Epoch:  10 [     0/ 99878 (0%)]\tLoss: 0.572840\n",
      "Train Epoch:  10 [  5120/ 99878 (5%)]\tLoss: 0.553142\n",
      "Train Epoch:  10 [ 10240/ 99878 (10%)]\tLoss: 0.560965\n",
      "Train Epoch:  10 [ 15360/ 99878 (15%)]\tLoss: 0.547140\n",
      "Train Epoch:  10 [ 20480/ 99878 (20%)]\tLoss: 0.553805\n",
      "Train Epoch:  10 [ 25600/ 99878 (26%)]\tLoss: 0.565070\n",
      "Train Epoch:  10 [ 30720/ 99878 (31%)]\tLoss: 0.565761\n",
      "Train Epoch:  10 [ 35840/ 99878 (36%)]\tLoss: 0.546245\n",
      "Train Epoch:  10 [ 40960/ 99878 (41%)]\tLoss: 0.530430\n",
      "Train Epoch:  10 [ 46080/ 99878 (46%)]\tLoss: 0.576302\n",
      "Train Epoch:  10 [ 51200/ 99878 (51%)]\tLoss: 0.538093\n",
      "Train Epoch:  10 [ 56320/ 99878 (56%)]\tLoss: 0.566559\n",
      "Train Epoch:  10 [ 61440/ 99878 (61%)]\tLoss: 0.543980\n",
      "Train Epoch:  10 [ 66560/ 99878 (66%)]\tLoss: 0.553714\n",
      "Train Epoch:  10 [ 71680/ 99878 (71%)]\tLoss: 0.529134\n",
      "Train Epoch:  10 [ 76800/ 99878 (77%)]\tLoss: 0.538489\n",
      "Train Epoch:  10 [ 81920/ 99878 (82%)]\tLoss: 0.581201\n",
      "Train Epoch:  10 [ 87040/ 99878 (87%)]\tLoss: 0.580270\n",
      "Train Epoch:  10 [ 92160/ 99878 (92%)]\tLoss: 0.581974\n",
      "Train Epoch:  10 [ 97280/ 99878 (97%)]\tLoss: 0.561203\n",
      "\n",
      "* * * Evaluating * * *\n",
      "Test set: Average loss: 0.0006, Accuracy: 77299/99878 (77.39%)\n",
      "\n"
     ]
    }
   ],
   "source": [
    "history = train(\n",
    "    model=model, train_loader=train_loader, test_loader=valid_loader,\n",
    "    device=device, optimizer=optimizer, lr_scheduler=lr_scheduler,\n",
    "    nb_epochs=nb_epochs, log_interval=log_interval\n",
    ")"
   ]
  },
  {
   "cell_type": "markdown",
   "metadata": {},
   "source": [
    "### Resultados do treino"
   ]
  },
  {
   "cell_type": "code",
   "execution_count": 18,
   "metadata": {},
   "outputs": [
    {
     "name": "stdout",
     "output_type": "stream",
     "text": [
      "Max val acc: 77.39%\n"
     ]
    }
   ],
   "source": [
    "print('Max val acc: {:.2f}%'.format(max(history['val_acc'])))"
   ]
  },
  {
   "cell_type": "code",
   "execution_count": 21,
   "metadata": {},
   "outputs": [
    {
     "data": {
      "image/png": "[encoded data removed]",
      "text/plain": [
       "<Figure size 432x288 with 1 Axes>"
      ]
     },
     "metadata": {
      "needs_background": "light"
     },
     "output_type": "display_data"
    }
   ],
   "source": [
    "plt.plot(history['train_loss'])\n",
    "plt.show()"
   ]
  },
  {
   "cell_type": "code",
   "execution_count": 22,
   "metadata": {},
   "outputs": [
    {
     "data": {
      "image/png": "[encoded data removed]",
      "text/plain": [
       "<Figure size 432x288 with 1 Axes>"
      ]
     },
     "metadata": {
      "needs_background": "light"
     },
     "output_type": "display_data"
    }
   ],
   "source": [
    "plt.plot(history['val_acc'])\n",
    "plt.show()"
   ]
  },
  {
   "cell_type": "code",
   "execution_count": null,
   "metadata": {},
   "outputs": [],
   "source": []
  }
 ],
 "metadata": {
  "kernelspec": {
   "display_name": "Python 3",
   "language": "python",
   "name": "python3"
  },
  "language_info": {
   "codemirror_mode": {
    "name": "ipython",
    "version": 3
   },
   "file_extension": ".py",
   "mimetype": "text/x-python",
   "name": "python",
   "nbconvert_exporter": "python",
   "pygments_lexer": "ipython3",
   "version": "3.7.4"
  }
 },
 "nbformat": 4,
 "nbformat_minor": 2
}
